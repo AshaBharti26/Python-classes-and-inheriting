{
 "cells": [
  {
   "cell_type": "markdown",
   "id": "c4cee943",
   "metadata": {},
   "source": [
    "# Python Classes and Objects"
   ]
  },
  {
   "cell_type": "code",
   "execution_count": 3,
   "id": "f5fbd544",
   "metadata": {},
   "outputs": [
    {
     "name": "stdout",
     "output_type": "stream",
     "text": [
      "Asha\n",
      "24\n"
     ]
    }
   ],
   "source": [
    "class person:\n",
    "\n",
    "    def __init__(self,name,age):\n",
    "        self.name=name\n",
    "        self.age=age\n",
    "\n",
    "p=person(\"Asha\",24)\n",
    "print(p.name)\n",
    "print(p.age)\n",
    "    "
   ]
  },
  {
   "cell_type": "code",
   "execution_count": 4,
   "id": "c511ca1a",
   "metadata": {},
   "outputs": [
    {
     "name": "stdout",
     "output_type": "stream",
     "text": [
      "Asha(45)\n"
     ]
    }
   ],
   "source": [
    "#The __str__() Function\n",
    "\n",
    "class person:\n",
    "    def __init__(self,name,age):\n",
    "        self.name=name\n",
    "        self.age=age\n",
    "    def __str__(self):\n",
    "        return f\"{self.name}({self.age})\"\n",
    "p=person(\"Asha\",45)\n",
    "\n",
    "print(p)"
   ]
  },
  {
   "cell_type": "code",
   "execution_count": 16,
   "id": "59992a8f",
   "metadata": {},
   "outputs": [
    {
     "name": "stdout",
     "output_type": "stream",
     "text": [
      "Hello my name is John\n",
      "my age is 36\n"
     ]
    }
   ],
   "source": [
    "class Person:\n",
    "    \n",
    "    def __init__(self, name, age):\n",
    "        self.name = name\n",
    "        self.age = age\n",
    "\n",
    "    def myfunc(self):\n",
    "        print(\"Hello my name is \" + self.name)\n",
    "        print(\"my age is \" + str(self.age))\n",
    "\n",
    "p1 = Person(\"John\", 36)\n",
    "p1.myfunc()"
   ]
  },
  {
   "cell_type": "code",
   "execution_count": 11,
   "id": "0495fb41",
   "metadata": {},
   "outputs": [
    {
     "name": "stdout",
     "output_type": "stream",
     "text": [
      "area of function 408\n"
     ]
    }
   ],
   "source": [
    "class Rectangle:\n",
    "    def __init__(self,length,width):\n",
    "        self.length=length\n",
    "        self.width=width\n",
    "        \n",
    "    def area(self):\n",
    "        areaR=self.length*self.width\n",
    "        print(\"area of function \"+ str(areaR))\n",
    "        \n",
    "a=Rectangle(34,12)\n",
    "a.area()\n",
    "    "
   ]
  },
  {
   "cell_type": "code",
   "execution_count": 13,
   "id": "7061b4c7",
   "metadata": {},
   "outputs": [
    {
     "name": "stdout",
     "output_type": "stream",
     "text": [
      "circle area:- 6361.71975\n",
      "Circle circumfrence:- 282.74309999999997\n"
     ]
    }
   ],
   "source": [
    "class Circle:\n",
    "    def __init__(self,radius):\n",
    "        self.radius=radius\n",
    "        \n",
    "    def circle1(self):\n",
    "        Carea=3.14159*pow(self.radius,2)\n",
    "        Ccircumference=2*3.14159*self.radius\n",
    "        print(\"circle area:-\",Carea)\n",
    "        print(\"Circle circumfrence:-\",Ccircumference)\n",
    "        \n",
    "c=Circle(45)\n",
    "c.circle1()"
   ]
  },
  {
   "cell_type": "code",
   "execution_count": 19,
   "id": "a2f7d592",
   "metadata": {},
   "outputs": [
    {
     "name": "stdout",
     "output_type": "stream",
     "text": [
      "name:- Asha\n",
      "salary:- 450000\n",
      "department:- political\n"
     ]
    }
   ],
   "source": [
    "class Employee:\n",
    "    def __init__(self,name,salary,department):\n",
    "        self.name=name\n",
    "        self.salary=salary\n",
    "        self.department=department\n",
    "        \n",
    "    def display(self):\n",
    "        print(\"name:-\",self.name)\n",
    "        print(\"salary:-\",self.salary)\n",
    "        print(\"department:-\",self.department)\n",
    "        \n",
    "a=Employee(\"Asha\",450000,\"political\")\n",
    "a.display()"
   ]
  },
  {
   "cell_type": "code",
   "execution_count": 21,
   "id": "192c04e8",
   "metadata": {},
   "outputs": [
    {
     "name": "stdout",
     "output_type": "stream",
     "text": [
      "black\n"
     ]
    }
   ],
   "source": [
    "class car:\n",
    "    def __init__(self):\n",
    "        self.color=\"black\"\n",
    "        self.model=\"maruti\"\n",
    "        self.price=450000\n",
    "        \n",
    "c=car()        \n",
    "print(c.color)"
   ]
  },
  {
   "cell_type": "code",
   "execution_count": 22,
   "id": "aa766aed",
   "metadata": {},
   "outputs": [
    {
     "name": "stdout",
     "output_type": "stream",
     "text": [
      "Deposited: 500\n",
      "Withdrawn: 200\n",
      "Account Number: 123456789\n",
      "Balance: 1300\n",
      "Account Holder Name: Alice\n"
     ]
    }
   ],
   "source": [
    "class BankAccount:\n",
    "    def __init__(self, account_number, balance, account_holder_name):\n",
    "        self.account_number = account_number\n",
    "        self.balance = balance\n",
    "        self.account_holder_name = account_holder_name\n",
    "\n",
    "    def deposit(self, amount):\n",
    "        self.balance += amount\n",
    "        print(\"Deposited:\", amount)\n",
    "\n",
    "    def withdraw(self, amount):\n",
    "        if self.balance >= amount:\n",
    "            self.balance -= amount\n",
    "            print(\"Withdrawn:\", amount)\n",
    "        else:\n",
    "            print(\"Insufficient balance\")\n",
    "\n",
    "    def display(self):\n",
    "        print(\"Account Number:\", self.account_number)\n",
    "        print(\"Balance:\", self.balance)\n",
    "        print(\"Account Holder Name:\", self.account_holder_name)\n",
    "\n",
    "# Creating an instance of BankAccount class\n",
    "account = BankAccount(\"123456789\", 1000, \"Alice\")\n",
    "\n",
    "# Deposit some money\n",
    "account.deposit(500)\n",
    "\n",
    "# Withdraw some money\n",
    "account.withdraw(200)\n",
    "\n",
    "# Display the account details\n",
    "account.display()\n"
   ]
  },
  {
   "cell_type": "code",
   "execution_count": 7,
   "id": "08a663f8",
   "metadata": {},
   "outputs": [
    {
     "name": "stdout",
     "output_type": "stream",
     "text": [
      "making phone call\n",
      "playing game\n"
     ]
    }
   ],
   "source": [
    "class phone:\n",
    "    def make_call(self):\n",
    "        print(\"making phone call\")\n",
    "    def play_game(self):\n",
    "        print(\"playing game\")\n",
    "        \n",
    "p1=phone()\n",
    "p1.make_call()\n",
    "p1.play_game()"
   ]
  },
  {
   "cell_type": "code",
   "execution_count": 14,
   "id": "90171b15",
   "metadata": {},
   "outputs": [
    {
     "data": {
      "text/plain": [
       "('res', 340000)"
      ]
     },
     "execution_count": 14,
     "metadata": {},
     "output_type": "execute_result"
    }
   ],
   "source": [
    "class phone:\n",
    "    def assign_value(self,color,cost):\n",
    "        self.color=color\n",
    "        self.cost=cost\n",
    "        \n",
    "    def show_value(self):\n",
    "        return self.color,self.cost\n",
    "    \n",
    "p1=phone()\n",
    "p1.assign_value(\"res\",340000)\n",
    "p1.show_value()"
   ]
  },
  {
   "cell_type": "code",
   "execution_count": 19,
   "id": "19e7ede9",
   "metadata": {},
   "outputs": [
    {
     "name": "stdout",
     "output_type": "stream",
     "text": [
      "I am a vehical\n",
      "Mileage of vehical is 450\n",
      "cost of vehical is 600000\n",
      "I am a vehical\n",
      "Mileage of vehical is 400\n",
      "cost of vehical is 39000\n",
      "I am a car\n"
     ]
    }
   ],
   "source": [
    "class vehical:\n",
    "    def __init__(self,mileage,cost):\n",
    "        self.mileage=mileage\n",
    "        self.cost=cost\n",
    "    def show_details(self):\n",
    "        print(\"I am a vehical\")\n",
    "        print(\"Mileage of vehical is\",self.mileage)\n",
    "        print(\"cost of vehical is\",self.cost)\n",
    "        \n",
    "v=vehical(450,600000)\n",
    "v.show_details()\n",
    "\n",
    "class car(vehical):\n",
    "    def show_car_detail(self):\n",
    "        print(\"I am a car\")\n",
    "        \n",
    "c=car(400,39000)\n",
    "c.show_details()\n",
    "c.show_car_detail()\n"
   ]
  },
  {
   "cell_type": "code",
   "execution_count": 20,
   "id": "7810c4d4",
   "metadata": {},
   "outputs": [
    {
     "name": "stdout",
     "output_type": "stream",
     "text": [
      "Hello from the Parent class!\n",
      "Hello from the Child class!\n"
     ]
    }
   ],
   "source": [
    "class Parent:# Single Inheritance\n",
    "    def greet(self):\n",
    "        print('Hello from the Parent class!')\n",
    "\n",
    "class Child(Parent):\n",
    "    def greet(self):\n",
    "        super().greet()\n",
    "        print('Hello from the Child class!')\n",
    "\n",
    "\n",
    "child = Child()\n",
    "child.greet()\n",
    "\n",
    "\n"
   ]
  },
  {
   "cell_type": "markdown",
   "id": "c46c441d",
   "metadata": {},
   "source": [
    "# Multiple Inheritance"
   ]
  },
  {
   "cell_type": "code",
   "execution_count": 21,
   "id": "f25c3372",
   "metadata": {},
   "outputs": [
    {
     "name": "stdout",
     "output_type": "stream",
     "text": [
      "Programming and Cooking\n"
     ]
    }
   ],
   "source": [
    "class Father:\n",
    "    def skills(self):\n",
    "        print('Programming and Cooking')\n",
    "\n",
    "class Mother:\n",
    "    def skills(self):\n",
    "        print('Art and Teaching')\n",
    "\n",
    "class Child(Father, Mother):\n",
    "    pass\n",
    "\n",
    "# Creating an instance of the Child class\n",
    "child = Child()\n",
    "child.skills()\n",
    "#the Child class inherits from both the Father and Mother classes. However, since the Father class\n",
    "#is listed first in the inheritance list, its skills method is the one that gets called"
   ]
  },
  {
   "cell_type": "markdown",
   "id": "b18bdf07",
   "metadata": {},
   "source": [
    "# Multilevel Inheritance"
   ]
  },
  {
   "cell_type": "code",
   "execution_count": 22,
   "id": "4bd5c2dd",
   "metadata": {},
   "outputs": [
    {
     "name": "stdout",
     "output_type": "stream",
     "text": [
      "Hello from the Grandparent class!\n"
     ]
    }
   ],
   "source": [
    "class Grandparent:\n",
    "    def greet(self):\n",
    "        print('Hello from the Grandparent class!')\n",
    "\n",
    "class Parent(Grandparent):\n",
    "    pass\n",
    "\n",
    "class Child(Parent):\n",
    "    pass\n",
    "\n",
    "# Creating an instance of the Child class\n",
    "child = Child()\n",
    "child.greet()"
   ]
  },
  {
   "cell_type": "markdown",
   "id": "a1dcab23",
   "metadata": {},
   "source": [
    "# Hierarchical Inheritance\n"
   ]
  },
  {
   "cell_type": "code",
   "execution_count": 23,
   "id": "f8043658",
   "metadata": {},
   "outputs": [
    {
     "name": "stdout",
     "output_type": "stream",
     "text": [
      "Hello from the Parent class!\n",
      "Hello from the Parent class!\n"
     ]
    }
   ],
   "source": [
    "class Parent:\n",
    "    def greet(self):\n",
    "        print('Hello from the Parent class!')\n",
    "\n",
    "class Child1(Parent):\n",
    "    pass\n",
    "\n",
    "class Child2(Parent):\n",
    "    pass\n",
    "\n",
    "# Creating instances of the Child classes\n",
    "child1 = Child1()\n",
    "child2 = Child2()\n",
    "child1.greet()\n",
    "child2.greet()"
   ]
  },
  {
   "cell_type": "code",
   "execution_count": 2,
   "id": "abe76232",
   "metadata": {},
   "outputs": [],
   "source": [
    "class Atm:\n",
    "    def __init__(self):\n",
    "        self.pin=\"\"\n",
    "        self.balance=0\n",
    "        self.menu()\n",
    "    \n",
    "    def menu(self):\n",
    "        user_input=input(\"\"\"\n",
    "                            Hello What would you like to proceed\n",
    "                            1.Enter 1 create Pin\n",
    "                            2.Enter 2 to deposit\n",
    "                            3.Enter 3 to withdraw\n",
    "                            4.Enter 4 to check balance\n",
    "                            5.Enter 5 to exit\n",
    "                            \"\"\")\n",
    "        if user_input==\"1\":\n",
    "            self.Create_pin()\n",
    "        elif user_input==\"2\":\n",
    "            self.Deposit()\n",
    "        elif user_input==\"3\":\n",
    "            self.Withdrawl()\n",
    "        elif user_input==\"4\":\n",
    "            self.Check_balance()\n",
    "        else:\n",
    "            print(\"Bye\")\n",
    "            \n",
    "    def Create_pin(self):\n",
    "        self.pin=input(\"Enter your pin\")\n",
    "        print(\"Pin Create Sucessfully\")\n",
    "    def Deposit(self):\n",
    "        temp=input(\"enter your pin\")\n",
    "        if temp==self.pin:\n",
    "            amount=int(input(\"enter balance to deposit\"))\n",
    "            self.balance=self.balance + amount\n",
    "            print(\"deposit sucessfully\")\n",
    "            c=input(\"\"\"\n",
    "                    check your balance\n",
    "                    1.Yes\n",
    "                    2.No\n",
    "            \"\"\")\n",
    "            if c==\"1\":\n",
    "                print(\"Total balance:-\",self.balance)\n",
    "            else:\n",
    "                print(\"Bye\")\n",
    "        else:\n",
    "            print(\"Invalid Pin\")\n",
    "            \n",
    "    def Withdrawl(self):\n",
    "        temp=input(\"enter your pin\")\n",
    "        if temp==self.pin:\n",
    "            amount=int(input(\"enter amount for withdrawl:-\"))\n",
    "            if amount<self.balance:\n",
    "                self.balance=self.balace - amount\n",
    "                print(\"Withdrawl sucessful\")\n",
    "                c=input(\"\"\"\n",
    "                    check your balance\n",
    "                    1.Yes\n",
    "                    2.No\n",
    "                \"\"\")\n",
    "                if c==\"1\":\n",
    "                    print(\"Total balance:-\",self.balance)\n",
    "                else:\n",
    "                    print(\"Bye\")\n",
    "            else:\n",
    "                print(\"Insufficient Balance  \")\n",
    "                \n",
    "        else:\n",
    "            print(\"Invalid Pin\")\n",
    "            \n",
    "    def Check_balance(self):\n",
    "        temp=input(\"enter your pin\")\n",
    "        if temp==self.pin:\n",
    "            print(\"Total balance:-\",self.balance)\n",
    "        else:\n",
    "            print(\"Invalid Pin\") \n",
    "                \n",
    "            \n",
    "        \n",
    "\n"
   ]
  },
  {
   "cell_type": "code",
   "execution_count": 3,
   "id": "fe2b4965",
   "metadata": {},
   "outputs": [
    {
     "name": "stdout",
     "output_type": "stream",
     "text": [
      "\n",
      "                            Hello What would you like to proceed\n",
      "                            1.Enter 1 create Pin\n",
      "                            2.Enter 2 to deposit\n",
      "                            3.Enter 3 to withdraw\n",
      "                            4.Enter 4 to check balance\n",
      "                            5.Enter 5 to exit\n",
      "                            1\n",
      "Enter your pin1234\n",
      "Pin Create Sucessfully\n"
     ]
    },
    {
     "data": {
      "text/plain": [
       "0"
      ]
     },
     "execution_count": 3,
     "metadata": {},
     "output_type": "execute_result"
    }
   ],
   "source": [
    "sbi=Atm()\n",
    "sbi.balance\n",
    "#sbi.Deposit()\n",
    "#sbi.Check_balance()"
   ]
  },
  {
   "cell_type": "code",
   "execution_count": 14,
   "id": "ab0cf576",
   "metadata": {},
   "outputs": [
    {
     "name": "stdout",
     "output_type": "stream",
     "text": [
      "\n",
      "                            Hello What would you like to proceed\n",
      "                            1.Enter 1 create Pin\n",
      "                            2.Enter 2 to deposit\n",
      "                            3.Enter 3 to withdraw\n",
      "                            4.Enter 4 to check balance\n",
      "                            5.Enter 5 to exit\n",
      "                            1\n",
      "Enter your pin5678\n",
      "Pin Create Sucessfully\n",
      "enter your pin5678\n",
      "enter balance to deposit435465436\n",
      "deposit sucessfully\n",
      "\n",
      "                    check your balance\n",
      "                    1.Yes\n",
      "                    2.No\n",
      "            2\n",
      "Bye\n",
      "enter your pin5678\n",
      "Total balance:- 435465436\n"
     ]
    }
   ],
   "source": [
    "a=Atm()\n",
    "a.Deposit()\n",
    "a.Check_balance()"
   ]
  },
  {
   "cell_type": "code",
   "execution_count": 12,
   "id": "d12d1096",
   "metadata": {},
   "outputs": [],
   "source": [
    "# to hide are data from user we use underscore in magic methods\n",
    "\n",
    "class Atm:\n",
    "    def __init__(self):\n",
    "        self.__pin=\"\"\n",
    "        self.__balance=0\n",
    "        self.menu()\n",
    "    \n",
    "    def menu(self):\n",
    "        user_input=input(\"\"\"\n",
    "                            Hello What would you like to proceed\n",
    "                            1.Enter 1 create Pin\n",
    "                            2.Enter 2 to deposit\n",
    "                            3.Enter 3 to withdraw\n",
    "                            4.Enter 4 to check balance\n",
    "                            5.Enter 5 to exit\n",
    "                            \"\"\")\n",
    "        if user_input==\"1\":\n",
    "            self.Create_pin()\n",
    "        elif user_input==\"2\":\n",
    "            self.Deposit()\n",
    "        elif user_input==\"3\":\n",
    "            self.Withdrawl()\n",
    "        elif user_input==\"4\":\n",
    "            self.Check_balance()\n",
    "        else:\n",
    "            print(\"Bye\")\n",
    "     \n",
    "    def get_pin(self):\n",
    "        return self.__pin\n",
    "    \n",
    "    def set_pin(self,new_pin):\n",
    "        if type(new_pin)==str\n",
    "        self.__pin=new_pin\n",
    "        print(\"Pin changed\")\n",
    "        \n",
    "    def Create_pin(self):\n",
    "        self.__pin=input(\"Enter your pin\")\n",
    "        print(\"Pin Create Sucessfully\")\n",
    "        \n",
    "    def Deposit(self):\n",
    "        temp=input(\"enter your pin\")\n",
    "        if temp==self.__pin:\n",
    "            amount=int(input(\"enter balance to deposit\"))\n",
    "            self.__balance=self.__balance + amount\n",
    "            print(\"deposit sucessfully\")\n",
    "            c=input(\"\"\"\n",
    "                    check your balance\n",
    "                    1.Yes\n",
    "                    2.No\n",
    "            \"\"\")\n",
    "            if c==\"1\":\n",
    "                print(\"Total balance:-\",self.__balance)\n",
    "            else:\n",
    "                print(\"Bye\")\n",
    "        else:\n",
    "            print(\"Invalid Pin\")\n",
    "            \n",
    "    def Withdrawl(self):\n",
    "        temp=input(\"enter your pin\")\n",
    "        if temp==self.__pin:\n",
    "            amount=int(input(\"enter amount for withdrawl:-\"))\n",
    "            if amount<self.__balance:\n",
    "                self.__balance=self.__balace - amount\n",
    "                print(\"Withdrawl sucessful\")\n",
    "                c=input(\"\"\"\n",
    "                    check your balance\n",
    "                    1.Yes\n",
    "                    2.No\n",
    "                \"\"\")\n",
    "                if c==\"1\":\n",
    "                    print(\"Total balance:-\",self.__balance)\n",
    "                else:\n",
    "                    print(\"Bye\")\n",
    "            else:\n",
    "                print(\"Insufficient Balance  \")\n",
    "                \n",
    "        else:\n",
    "            print(\"Invalid Pin\")\n",
    "            \n",
    "    def Check_balance(self):\n",
    "        temp=input(\"enter your pin\")\n",
    "        if temp==self.__pin:\n",
    "            print(\"Total balance:-\",self.__balance)\n",
    "        else:\n",
    "            print(\"Invalid Pin\") \n",
    "                \n",
    "            \n",
    "        \n",
    "\n",
    "\n"
   ]
  },
  {
   "cell_type": "code",
   "execution_count": 14,
   "id": "2ce26374",
   "metadata": {},
   "outputs": [
    {
     "name": "stdout",
     "output_type": "stream",
     "text": [
      "\n",
      "                            Hello What would you like to proceed\n",
      "                            1.Enter 1 create Pin\n",
      "                            2.Enter 2 to deposit\n",
      "                            3.Enter 3 to withdraw\n",
      "                            4.Enter 4 to check balance\n",
      "                            5.Enter 5 to exit\n",
      "                            1\n",
      "Enter your pin1234\n",
      "Pin Create Sucessfully\n",
      "enter your pin1234\n",
      "enter balance to deposit45768\n"
     ]
    },
    {
     "ename": "TypeError",
     "evalue": "can only concatenate str (not \"int\") to str",
     "output_type": "error",
     "traceback": [
      "\u001b[1;31m---------------------------------------------------------------------------\u001b[0m",
      "\u001b[1;31mTypeError\u001b[0m                                 Traceback (most recent call last)",
      "Cell \u001b[1;32mIn[14], line 6\u001b[0m\n\u001b[0;32m      4\u001b[0m idbi\u001b[38;5;241m.\u001b[39m__balance\u001b[38;5;241m=\u001b[39m\u001b[38;5;124m\"\u001b[39m\u001b[38;5;124masha\u001b[39m\u001b[38;5;124m\"\u001b[39m\u001b[38;5;66;03m# if we use doublescore for change data type it can not be change because __is not variable use bt class only created,actual variavble is __Atm__balance\u001b[39;00m\n\u001b[0;32m      5\u001b[0m idbi\u001b[38;5;241m.\u001b[39m_Atm__balance\u001b[38;5;241m=\u001b[39m\u001b[38;5;124m\"\u001b[39m\u001b[38;5;124mhuewhuiyhiu\u001b[39m\u001b[38;5;124m\"\u001b[39m\u001b[38;5;66;03m# we can acess to variable like this\u001b[39;00m\n\u001b[1;32m----> 6\u001b[0m idbi\u001b[38;5;241m.\u001b[39mDeposit()\n",
      "Cell \u001b[1;32mIn[12], line 36\u001b[0m, in \u001b[0;36mAtm.Deposit\u001b[1;34m(self)\u001b[0m\n\u001b[0;32m     34\u001b[0m \u001b[38;5;28;01mif\u001b[39;00m temp\u001b[38;5;241m==\u001b[39m\u001b[38;5;28mself\u001b[39m\u001b[38;5;241m.\u001b[39m__pin:\n\u001b[0;32m     35\u001b[0m     amount\u001b[38;5;241m=\u001b[39m\u001b[38;5;28mint\u001b[39m(\u001b[38;5;28minput\u001b[39m(\u001b[38;5;124m\"\u001b[39m\u001b[38;5;124menter balance to deposit\u001b[39m\u001b[38;5;124m\"\u001b[39m))\n\u001b[1;32m---> 36\u001b[0m     \u001b[38;5;28mself\u001b[39m\u001b[38;5;241m.\u001b[39m__balance\u001b[38;5;241m=\u001b[39m\u001b[38;5;28mself\u001b[39m\u001b[38;5;241m.\u001b[39m__balance \u001b[38;5;241m+\u001b[39m amount\n\u001b[0;32m     37\u001b[0m     \u001b[38;5;28mprint\u001b[39m(\u001b[38;5;124m\"\u001b[39m\u001b[38;5;124mdeposit sucessfully\u001b[39m\u001b[38;5;124m\"\u001b[39m)\n\u001b[0;32m     38\u001b[0m     c\u001b[38;5;241m=\u001b[39m\u001b[38;5;28minput\u001b[39m(\u001b[38;5;124m\"\"\"\u001b[39m\n\u001b[0;32m     39\u001b[0m \u001b[38;5;124m            check your balance\u001b[39m\n\u001b[0;32m     40\u001b[0m \u001b[38;5;124m            1.Yes\u001b[39m\n\u001b[0;32m     41\u001b[0m \u001b[38;5;124m            2.No\u001b[39m\n\u001b[0;32m     42\u001b[0m \u001b[38;5;124m    \u001b[39m\u001b[38;5;124m\"\"\"\u001b[39m)\n",
      "\u001b[1;31mTypeError\u001b[0m: can only concatenate str (not \"int\") to str"
     ]
    }
   ],
   "source": [
    "# nothing is private in python\n",
    "idbi=Atm()\n",
    "#idbi.Check_balance()\n",
    "idbi.__balance=\"asha\"# if we use doublescore for change data type it can not be change because __is not variable use bt class only created,actual variavble is __Atm__balance\n",
    "idbi._Atm__balance=\"huewhuiyhiu\"# we can acess to variable like this\n",
    "idbi.Deposit()"
   ]
  },
  {
   "cell_type": "code",
   "execution_count": 10,
   "id": "d3428eb9",
   "metadata": {},
   "outputs": [],
   "source": [
    "class Fraction:\n",
    "    def __init__(self,n,d):\n",
    "        self.n=n\n",
    "        self.d=d\n",
    "    def __str__(self):\n",
    "        return \"{}/{}\".format(self.n,self.d)\n",
    "    def __add__(self,other):\n",
    "        temp_num=self.n*other.d + other.n*self.d\n",
    "        temp_den=self.d*other.d\n",
    "        return \"{}/{}\".format(temp_num,temp_den)\n",
    "    \n",
    "    def __sub__(self,other):\n",
    "        temp_num=self.n*other.d - other.n*self.d\n",
    "        temp_den=self.d*other.d\n",
    "        return \"{}/{}\".format(temp_num,temp_den)\n",
    "    \n",
    "    def __mul__(self,other):\n",
    "        temp_num=self.n*other.n\n",
    "        temp_den=self.d*other.d\n",
    "        return \"{}/{}\".format(temp_num,temp_den)\n",
    "    \n",
    "    def __truediv__(self,other):\n",
    "        temp_num=self.n*other.d\n",
    "        temp_den=self.d*other.n\n",
    "        return \"{}/{}\".format(temp_num,temp_den)\n",
    "    \n",
    "        \n"
   ]
  },
  {
   "cell_type": "code",
   "execution_count": 34,
   "id": "795d96f5",
   "metadata": {},
   "outputs": [
    {
     "name": "stdout",
     "output_type": "stream",
     "text": [
      "5/6\n",
      "3/8\n",
      "58/48\n",
      "22/48\n",
      "15/48\n",
      "40/18\n"
     ]
    }
   ],
   "source": [
    "a=Fraction(5,6)\n",
    "print(a)\n",
    "b=Fraction(3,8)\n",
    "print(b)\n",
    "print(a + b)\n",
    "print(a - b)\n",
    "print(a*b)\n",
    "print(a/b)\n"
   ]
  },
  {
   "cell_type": "code",
   "execution_count": 20,
   "id": "d244e929",
   "metadata": {},
   "outputs": [
    {
     "name": "stdout",
     "output_type": "stream",
     "text": [
      "Hello Asha bharti Ma'am\n"
     ]
    }
   ],
   "source": [
    "class Customer:\n",
    "    def __init__(self,name,gender):\n",
    "        self.name=name\n",
    "        self.gender=gender\n",
    "        \n",
    "def greet(customer):\n",
    "    if customer.gender==\"male\":\n",
    "        print(\"Hello\",customer.name,\"Sir\")\n",
    "    else:\n",
    "        print(\"Hello\", customer.name, \"Ma'am\")\n",
    "            \n",
    "cust=Customer(\"Asha bharti\",\"female\")\n",
    "greet(cust)\n",
    "        \n",
    "        "
   ]
  },
  {
   "cell_type": "code",
   "execution_count": 30,
   "id": "9e23d1d5",
   "metadata": {},
   "outputs": [
    {
     "name": "stdout",
     "output_type": "stream",
     "text": [
      "I am  Asha and i am  34 age\n",
      "I am  Divya and i am  78 age\n",
      "I am  soni and i am  67 age\n"
     ]
    }
   ],
   "source": [
    "class customer:\n",
    "    def __init__(self,name,age):\n",
    "        self.name=name\n",
    "        self.age=age\n",
    "    def intro(self):\n",
    "        print(\"I am \" ,self.name ,\"and i am \",self.age,\"age\")\n",
    "        \n",
    "c1=customer(\"Asha\",34)\n",
    "c2=customer(\"Divya\",78)\n",
    "c3=customer(\"soni\",67)\n",
    "\n",
    "l1=[c1,c2,c3]\n",
    "\n",
    "for i in l1:\n",
    "    i.intro()"
   ]
  },
  {
   "cell_type": "markdown",
   "id": "43dbbfa9",
   "metadata": {},
   "source": [
    "# Static variable"
   ]
  },
  {
   "cell_type": "code",
   "execution_count": 54,
   "id": "fe069a11",
   "metadata": {},
   "outputs": [
    {
     "name": "stdout",
     "output_type": "stream",
     "text": [
      "1\n",
      "2\n"
     ]
    }
   ],
   "source": [
    "class Atm:\n",
    "    # use static variable before constructor\n",
    "    counter=1\n",
    "    \n",
    "    def __init__(self):\n",
    "        self.__pin=\"\"\n",
    "        self.__balance=0\n",
    "        #self.menu()\n",
    "        self.sno=Atm.counter\n",
    "        Atm.counter=Atm.counter + 1\n",
    "    \n",
    "    def menu(self):\n",
    "        user_input=input(\"\"\"\n",
    "                            Hello What would you like to proceed\n",
    "                            1.Enter 1 create Pin\n",
    "                            2.Enter 2 to deposit\n",
    "                            3.Enter 3 to withdraw\n",
    "                            4.Enter 4 to check balance\n",
    "                            5.Enter 5 to exit\n",
    "                            \"\"\")\n",
    "        if user_input==\"1\":\n",
    "            self.Create_pin()\n",
    "        elif user_input==\"2\":\n",
    "            self.Deposit()\n",
    "        elif user_input==\"3\":\n",
    "            self.Withdrawl()\n",
    "        elif user_input==\"4\":\n",
    "            self.Check_balance()\n",
    "        else:\n",
    "            print(\"Bye\")\n",
    "     \n",
    "    def get_pin(self):\n",
    "        return self.__pin\n",
    "    \n",
    "    def set_pin(self,new_pin):\n",
    "        if type(new_pin)==str:\n",
    "            self.__pin=new_pin\n",
    "            print(\"Pin changed\")\n",
    "        \n",
    "    def Create_pin(self):\n",
    "        self.__pin=input(\"Enter your pin\")\n",
    "        print(\"Pin Create Sucessfully\")\n",
    "        \n",
    "    def Deposit(self):\n",
    "        temp=input(\"enter your pin\")\n",
    "        if temp==self.__pin:\n",
    "            amount=int(input(\"enter balance to deposit\"))\n",
    "            self.__balance=self.__balance + amount\n",
    "            print(\"deposit sucessfully\")\n",
    "            c=input(\"\"\"\n",
    "                    check your balance\n",
    "                    1.Yes\n",
    "                    2.No\n",
    "            \"\"\")\n",
    "            if c==\"1\":\n",
    "                print(\"Total balance:-\",self.__balance)\n",
    "            else:\n",
    "                print(\"Bye\")\n",
    "        else:\n",
    "            print(\"Invalid Pin\")\n",
    "            \n",
    "    def Withdrawl(self):\n",
    "        temp=input(\"enter your pin\")\n",
    "        if temp==self.__pin:\n",
    "            amount=int(input(\"enter amount for withdrawl:-\"))\n",
    "            if amount<self.__balance:\n",
    "                self.__balance=self.__balace - amount\n",
    "                print(\"Withdrawl sucessful\")\n",
    "                c=input(\"\"\"\n",
    "                    check your balance\n",
    "                    1.Yes\n",
    "                    2.No\n",
    "                \"\"\")\n",
    "                if c==\"1\":\n",
    "                    print(\"Total balance:-\",self.__balance)\n",
    "                else:\n",
    "                    print(\"Bye\")\n",
    "            else:\n",
    "                print(\"Insufficient Balance  \")\n",
    "                \n",
    "        else:\n",
    "            print(\"Invalid Pin\")\n",
    "            \n",
    "    def Check_balance(self):\n",
    "        temp=input(\"enter your pin\")\n",
    "        if temp==self.__pin:\n",
    "            print(\"Total balance:-\",self.__balance)\n",
    "        else:\n",
    "            print(\"Invalid Pin\") \n",
    "                \n",
    "            \n",
    "        \n",
    "\n",
    "\n",
    "\n",
    "        \n",
    "c1=Atm()\n",
    "print(c1.sno)\n",
    "c2=Atm()\n",
    "print(c2.sno)"
   ]
  },
  {
   "cell_type": "markdown",
   "id": "dff8d500",
   "metadata": {},
   "source": [
    "#    Aggreagation"
   ]
  },
  {
   "cell_type": "code",
   "execution_count": 48,
   "id": "a9c0d115",
   "metadata": {},
   "outputs": [],
   "source": [
    "class customer:\n",
    "    def __init__(self, name, gender, address):\n",
    "        self.name = name\n",
    "        self.gender = gender\n",
    "        self.address = address\n",
    "        print(\"Name:- \", self.name, \"\\tGender:- \", self.gender)\n",
    "        print(\"Address:- \", self.address.city, \", \", self.address.pin, \", \", self.address.state)\n",
    "\n",
    "    def new_profile(self, new_name, new_city, new_pin, new_state):\n",
    "        self.name = new_name\n",
    "        self.address.change_address(new_city, new_pin, new_state)\n",
    "\n",
    "class address:\n",
    "    def __init__(self, city, pin, state):\n",
    "        self.city = city\n",
    "        self.pin = pin\n",
    "        self.state = state\n",
    "        print(\"City:- \", self.city, \"\\tPin:- \", self.pin, \"\\tState:-\", self.state)\n",
    "\n",
    "    def change_address(self, new_city, new_pin, new_state):\n",
    "        self.city = new_city\n",
    "        self.pin = new_pin\n",
    "        self.state = new_state\n"
   ]
  },
  {
   "cell_type": "code",
   "execution_count": 49,
   "id": "7be587f9",
   "metadata": {},
   "outputs": [
    {
     "name": "stdout",
     "output_type": "stream",
     "text": [
      "City:-  Delhi \tPin:-  10023 \tState:- Delhi\n",
      "Name:-  Asha \tGender:-  Female\n",
      "Address:-  Delhi ,  10023 ,  Delhi\n",
      "India\n",
      "asha Female\n"
     ]
    }
   ],
   "source": [
    "add = address(\"Delhi\", 10023, \"Delhi\")\n",
    "cust = customer(\"Asha\", \"Female\", add)\n",
    "cust.new_profile(\"asha\", \"bihar\", 6587324, \"India\")\n",
    "print(cust.address.state)\n",
    "print(cust.name, cust.gender)"
   ]
  },
  {
   "cell_type": "markdown",
   "id": "a38be4c4",
   "metadata": {},
   "source": [
    "# Inheriitance"
   ]
  },
  {
   "cell_type": "code",
   "execution_count": 57,
   "id": "4c4533c8",
   "metadata": {},
   "outputs": [
    {
     "name": "stdout",
     "output_type": "stream",
     "text": [
      "357867687\n",
      "Buy phone\n"
     ]
    }
   ],
   "source": [
    "class phone:\n",
    "    def __init__(self,brand,price,camra):\n",
    "        self.brand=brand\n",
    "        self.price=price\n",
    "        self.camra=camra\n",
    "        \n",
    "    def buy(self):\n",
    "        print(\"Buy phone\")\n",
    "    def return_(self):\n",
    "        print(\"return phone\")\n",
    "        \n",
    "class smartphone(phone):\n",
    "    pass\n",
    "class feature(phone):\n",
    "    pass\n",
    "\n",
    "s1=smartphone(\"smasung\",357867687,34)\n",
    "print(s1.price)\n",
    "s1.buy()\n",
    "\n",
    "\n",
    "        "
   ]
  },
  {
   "cell_type": "markdown",
   "id": "19330ed0",
   "metadata": {},
   "source": [
    "# Method overriding--polymorphism"
   ]
  },
  {
   "cell_type": "code",
   "execution_count": 62,
   "id": "c3193b35",
   "metadata": {},
   "outputs": [
    {
     "name": "stdout",
     "output_type": "stream",
     "text": [
      "Buy smartphone\n"
     ]
    }
   ],
   "source": [
    "class phone:\n",
    "    def __init__(self,brand,price,camra):\n",
    "        self.brand=brand\n",
    "        self.price=price\n",
    "        self.camra=camra\n",
    "        \n",
    "    def buy(self):\n",
    "        print(\"Buy phone\")\n",
    "        \n",
    "class smartphone(phone):\n",
    "    def buy(self):\n",
    "        print(\"Buy smartphone\")# use child method not parents\n",
    "        \n",
    "s1=smartphone(\"nokia\",2344353,56)\n",
    "s1.buy()\n"
   ]
  },
  {
   "cell_type": "markdown",
   "id": "1aaebb98",
   "metadata": {},
   "source": [
    "# when child class have constructor that means never invoke parent class construtor other not have then onvoke parent class constructor"
   ]
  },
  {
   "cell_type": "code",
   "execution_count": 65,
   "id": "e1c9bd88",
   "metadata": {
    "scrolled": true
   },
   "outputs": [
    {
     "ename": "AttributeError",
     "evalue": "'child' object has no attribute 'num'",
     "output_type": "error",
     "traceback": [
      "\u001b[1;31m---------------------------------------------------------------------------\u001b[0m",
      "\u001b[1;31mAttributeError\u001b[0m                            Traceback (most recent call last)",
      "Cell \u001b[1;32mIn[65], line 19\u001b[0m\n\u001b[0;32m     17\u001b[0m son\u001b[38;5;241m=\u001b[39mchild(\u001b[38;5;241m100\u001b[39m,\u001b[38;5;241m45\u001b[39m)\n\u001b[0;32m     18\u001b[0m son\u001b[38;5;241m.\u001b[39mget_val()\n\u001b[1;32m---> 19\u001b[0m son\u001b[38;5;241m.\u001b[39mget_num()\n",
      "Cell \u001b[1;32mIn[65], line 7\u001b[0m, in \u001b[0;36mparent.get_num\u001b[1;34m(self)\u001b[0m\n\u001b[0;32m      6\u001b[0m \u001b[38;5;28;01mdef\u001b[39;00m \u001b[38;5;21mget_num\u001b[39m(\u001b[38;5;28mself\u001b[39m):\n\u001b[1;32m----> 7\u001b[0m     \u001b[38;5;28;01mreturn\u001b[39;00m \u001b[38;5;28mself\u001b[39m\u001b[38;5;241m.\u001b[39mnum\n",
      "\u001b[1;31mAttributeError\u001b[0m: 'child' object has no attribute 'num'"
     ]
    }
   ],
   "source": [
    "class parent:\n",
    "    \n",
    "    def __init__(self,num):\n",
    "        self.__num=num\n",
    "        \n",
    "    def get_num(self):\n",
    "        return self.num\n",
    "    \n",
    "class child(parent):\n",
    "    \n",
    "    def __init__(self,val,num):\n",
    "        self.__val=val\n",
    "        \n",
    "    def get_val(self):\n",
    "        return self.__val\n",
    "    \n",
    "son=child(100,45)\n",
    "son.get_val()\n",
    "son.get_num()# this show error beacus have own constructor so never invoke parent constructor"
   ]
  },
  {
   "cell_type": "markdown",
   "id": "6afac1d6",
   "metadata": {},
   "source": [
    "# super keyword"
   ]
  },
  {
   "cell_type": "code",
   "execution_count": 67,
   "id": "70c7e260",
   "metadata": {},
   "outputs": [
    {
     "name": "stdout",
     "output_type": "stream",
     "text": [
      "Buy smartphone\n",
      "Buy phone\n"
     ]
    }
   ],
   "source": [
    "class phone:\n",
    "    def __init__(self,brand,price,camra):\n",
    "        self.brand=brand\n",
    "        self.price=price\n",
    "        self.camra=camra\n",
    "        \n",
    "    def buy(self):\n",
    "        print(\"Buy phone\")\n",
    "        \n",
    "class smartphone(phone):\n",
    "    \n",
    "    def buy(self):\n",
    "        print(\"Buy smartphone\")\n",
    "        super().buy()# when we use super keyword then we invoke also parents class method when work outside of class\n",
    "        \n",
    "        \n",
    "s1=smartphone(\"nokia\",2344353,56)\n",
    "s1.buy()"
   ]
  },
  {
   "cell_type": "markdown",
   "id": "0b376c2b",
   "metadata": {},
   "source": [
    "# super keyword with parent constructor"
   ]
  },
  {
   "cell_type": "code",
   "execution_count": 76,
   "id": "314eecd0",
   "metadata": {},
   "outputs": [
    {
     "name": "stdout",
     "output_type": "stream",
     "text": [
      "pahle yaha\n",
      "phone constructor\n",
      "inside smartphone constructor\n",
      "android\n",
      "nokia\n"
     ]
    }
   ],
   "source": [
    "class phone:\n",
    "    def __init__(self,brand,price,camra):\n",
    "        print(\"phone constructor\")\n",
    "        self.brand=brand\n",
    "        self.price=price\n",
    "        self.camra=camra\n",
    "class smartphone(phone):\n",
    "    def __init__(self,brand,price,camra,os,ram):\n",
    "        print(\"pahle yaha\")\n",
    "        super().__init__(brand,price,camra)\n",
    "        self.os=os\n",
    "        self.ram=ram\n",
    "        print(\"inside smartphone constructor\")\n",
    "        \n",
    "s=smartphone(\"nokia\",2345,12,\"android\",4)\n",
    "\n",
    "print(s.os)\n",
    "print(s.brand)\n",
    "        \n",
    "\n"
   ]
  },
  {
   "cell_type": "code",
   "execution_count": 79,
   "id": "f3e32773",
   "metadata": {},
   "outputs": [
    {
     "name": "stdout",
     "output_type": "stream",
     "text": [
      "100\n",
      "45\n"
     ]
    }
   ],
   "source": [
    "class parent:\n",
    "    \n",
    "    def __init__(self,num):\n",
    "        self.__num=num\n",
    "        \n",
    "    def get_num(self):\n",
    "        return self.__num\n",
    "    \n",
    "class child(parent):\n",
    "    \n",
    "    def __init__(self,val,num):\n",
    "        super().__init__(num)\n",
    "        self.__val=val\n",
    "        \n",
    "    def get_val(self):\n",
    "        return self.__val\n",
    "    \n",
    "son=child(100,45)\n",
    "print(son.get_val())\n",
    "print(son.get_num())"
   ]
  },
  {
   "cell_type": "code",
   "execution_count": 88,
   "id": "038866e5",
   "metadata": {},
   "outputs": [
    {
     "name": "stdout",
     "output_type": "stream",
     "text": [
      "100\n",
      "200\n"
     ]
    }
   ],
   "source": [
    "class parent:\n",
    "    \n",
    "    def __init__(self):\n",
    "        self.num=100\n",
    "     \n",
    "class child(parent):\n",
    "    \n",
    "    def __init__(self):\n",
    "        super().__init__()\n",
    "        self.val=200\n",
    "        \n",
    "    def show(self):\n",
    "        print(self.num)\n",
    "        print(self.val)\n",
    "    \n",
    "son=child()\n",
    "son.show()"
   ]
  },
  {
   "cell_type": "markdown",
   "id": "bbc92cdd",
   "metadata": {},
   "source": [
    "# types of inheritance"
   ]
  },
  {
   "cell_type": "code",
   "execution_count": 5,
   "id": "988fa32a",
   "metadata": {},
   "outputs": [
    {
     "name": "stdout",
     "output_type": "stream",
     "text": [
      "nokia\n",
      "Buying phone\n",
      "product review\n",
      "product review\n"
     ]
    }
   ],
   "source": [
    "# multi leven inherit grand parent___________parent___________child\n",
    "\n",
    "class product:\n",
    "    \n",
    "    def review(self):\n",
    "        print(\"product review\")\n",
    "        \n",
    "class phone(product):\n",
    "    \n",
    "        def __init__(self,brand,price,camra):\n",
    "            self.brand=brand\n",
    "            self.price=price\n",
    "            self.camra=camra\n",
    "            \n",
    "        def buy(self):\n",
    "            print(\"Buying phone\")\n",
    "class smartphone(phone):\n",
    "    pass\n",
    "\n",
    "\n",
    "s=smartphone(\"nokia\",600000,50)# access to constructor also\n",
    "print(s.brand)\n",
    "s.buy()# child class access method from parent class\n",
    "s.review()# also acess method from grand parent class\n",
    "s1=phone(\"samsung\",30000,32)\n",
    "s1.review()# parent class acess from grand parent class\n"
   ]
  },
  {
   "cell_type": "code",
   "execution_count": 8,
   "id": "70b22c02",
   "metadata": {},
   "outputs": [
    {
     "name": "stdout",
     "output_type": "stream",
     "text": [
      "Buying phone\n",
      "return phone\n"
     ]
    }
   ],
   "source": [
    "#Hirarical type one parents many child\n",
    "\n",
    "\n",
    "class phone(product):\n",
    "    \n",
    "        def __init__(self,brand,price,camra):\n",
    "            self.brand=brand\n",
    "            self.price=price\n",
    "            self.camra=camra\n",
    "            \n",
    "        def buy(self):\n",
    "            print(\"Buying phone\")\n",
    "            \n",
    "        def back(self):\n",
    "            print(\"return phone\")\n",
    "class smartphone(phone):\n",
    "    pass\n",
    "\n",
    "class Feature_phone(phone):\n",
    "    pass\n",
    "\n",
    "\n",
    "s=smartphone(\"nokia\",400000,23)\n",
    "s.buy()\n",
    "\n",
    "s1=Feature_phone(\"sumsung\",500000,67)\n",
    "s1.back()\n",
    "\n",
    "# both child acess constructor and method from parent class\n"
   ]
  },
  {
   "cell_type": "code",
   "execution_count": 10,
   "id": "609b38b8",
   "metadata": {},
   "outputs": [
    {
     "name": "stdout",
     "output_type": "stream",
     "text": [
      "3400000\n",
      "Buying phone\n",
      "product review\n"
     ]
    }
   ],
   "source": [
    "# Multiple inheritance one child class two parents class dad and mum\n",
    "\n",
    "class phone(product):\n",
    "    \n",
    "        def __init__(self,brand,price,camra):\n",
    "            self.brand=brand\n",
    "            self.price=price\n",
    "            self.camra=camra\n",
    "            \n",
    "        def buy(self):\n",
    "            print(\"Buying phone\")\n",
    "            \n",
    "class product:\n",
    "    \n",
    "    def review(self):\n",
    "        print(\"product review\")\n",
    "        \n",
    "class smartphone(phone,product):\n",
    "    pass\n",
    "           \n",
    "s=smartphone(\"vivo\",3400000,45)\n",
    "print(s.price)\n",
    "s.buy()\n",
    "s.review()\n",
    "# acess contructor of which have constructor and both parets class acess all methods"
   ]
  },
  {
   "cell_type": "code",
   "execution_count": 12,
   "id": "502e2f86",
   "metadata": {},
   "outputs": [
    {
     "name": "stdout",
     "output_type": "stream",
     "text": [
      "3400000\n",
      "Buying product\n"
     ]
    }
   ],
   "source": [
    "# conflict in multilevel (Method ressolution order MRO)\n",
    "\n",
    "class phone(product):\n",
    "    \n",
    "        def __init__(self,brand,price,camra):\n",
    "            self.brand=brand\n",
    "            self.price=price\n",
    "            self.camra=camra\n",
    "            \n",
    "        def buy(self):\n",
    "            print(\"Buying phone\")\n",
    "            \n",
    "class product:\n",
    "    \n",
    "        def buy(self):\n",
    "            print(\"Buying product\")\n",
    "            \n",
    "\n",
    "class smartphone(product,phone):\n",
    "    pass\n",
    "           \n",
    "s=smartphone(\"vivo\",3400000,45)\n",
    "print(s.price)\n",
    "s.buy()\n",
    "\n",
    "\n",
    "#in this situation use first argument whta you writr inside child class if we right product first that means use product first method than nexrt parent class method"
   ]
  },
  {
   "cell_type": "code",
   "execution_count": 13,
   "id": "e2e328b4",
   "metadata": {},
   "outputs": [
    {
     "name": "stdout",
     "output_type": "stream",
     "text": [
      "70\n"
     ]
    }
   ],
   "source": [
    "class A:\n",
    "    \n",
    "    def m1(self):\n",
    "        return 20\n",
    "    \n",
    "class B(A):\n",
    "    \n",
    "    def m1(self):\n",
    "        return 30\n",
    "    \n",
    "    def m2(self):\n",
    "        return 40\n",
    "    \n",
    "class C(B):\n",
    "    \n",
    "    def m2(self):\n",
    "        return 20\n",
    "    \n",
    "\n",
    "obj1=A()\n",
    "obj2=B()\n",
    "obj3=C()\n",
    "        \n",
    "        #20       20 bracuse child have own value      #return 30 beacuse child take parent not grand parent\n",
    "print(obj1.m1() + obj3.m2() + obj3.m1())\n",
    "\n",
    "\n",
    "\n",
    "        "
   ]
  },
  {
   "cell_type": "code",
   "execution_count": 16,
   "id": "ffc90839",
   "metadata": {},
   "outputs": [
    {
     "ename": "RecursionError",
     "evalue": "maximum recursion depth exceeded",
     "output_type": "error",
     "traceback": [
      "\u001b[1;31m---------------------------------------------------------------------------\u001b[0m",
      "\u001b[1;31mRecursionError\u001b[0m                            Traceback (most recent call last)",
      "Cell \u001b[1;32mIn[16], line 21\u001b[0m\n\u001b[0;32m     18\u001b[0m         \u001b[38;5;28;01mreturn\u001b[39;00m val\n\u001b[0;32m     20\u001b[0m obj\u001b[38;5;241m=\u001b[39mC()\n\u001b[1;32m---> 21\u001b[0m obj\u001b[38;5;241m.\u001b[39mm1()\n",
      "Cell \u001b[1;32mIn[16], line 17\u001b[0m, in \u001b[0;36mC.m1\u001b[1;34m(self)\u001b[0m\n\u001b[0;32m     16\u001b[0m \u001b[38;5;28;01mdef\u001b[39;00m \u001b[38;5;21mm1\u001b[39m(\u001b[38;5;28mself\u001b[39m):\n\u001b[1;32m---> 17\u001b[0m    val\u001b[38;5;241m=\u001b[39m\u001b[38;5;28mself\u001b[39m\u001b[38;5;241m.\u001b[39mm1()\u001b[38;5;241m+\u001b[39m\u001b[38;5;241m30\u001b[39m\n\u001b[0;32m     18\u001b[0m    \u001b[38;5;28;01mreturn\u001b[39;00m val\n",
      "Cell \u001b[1;32mIn[16], line 17\u001b[0m, in \u001b[0;36mC.m1\u001b[1;34m(self)\u001b[0m\n\u001b[0;32m     16\u001b[0m \u001b[38;5;28;01mdef\u001b[39;00m \u001b[38;5;21mm1\u001b[39m(\u001b[38;5;28mself\u001b[39m):\n\u001b[1;32m---> 17\u001b[0m    val\u001b[38;5;241m=\u001b[39m\u001b[38;5;28mself\u001b[39m\u001b[38;5;241m.\u001b[39mm1()\u001b[38;5;241m+\u001b[39m\u001b[38;5;241m30\u001b[39m\n\u001b[0;32m     18\u001b[0m    \u001b[38;5;28;01mreturn\u001b[39;00m val\n",
      "    \u001b[1;31m[... skipping similar frames: C.m1 at line 17 (2971 times)]\u001b[0m\n",
      "Cell \u001b[1;32mIn[16], line 17\u001b[0m, in \u001b[0;36mC.m1\u001b[1;34m(self)\u001b[0m\n\u001b[0;32m     16\u001b[0m \u001b[38;5;28;01mdef\u001b[39;00m \u001b[38;5;21mm1\u001b[39m(\u001b[38;5;28mself\u001b[39m):\n\u001b[1;32m---> 17\u001b[0m    val\u001b[38;5;241m=\u001b[39m\u001b[38;5;28mself\u001b[39m\u001b[38;5;241m.\u001b[39mm1()\u001b[38;5;241m+\u001b[39m\u001b[38;5;241m30\u001b[39m\n\u001b[0;32m     18\u001b[0m    \u001b[38;5;28;01mreturn\u001b[39;00m val\n",
      "\u001b[1;31mRecursionError\u001b[0m: maximum recursion depth exceeded"
     ]
    }
   ],
   "source": [
    "# conflict example of inheritance#method overriding\n",
    "\n",
    "class A:\n",
    "    \n",
    "    def m1(self):\n",
    "        return 20\n",
    "    \n",
    "class B(A):\n",
    "    \n",
    "    def m1(self):\n",
    "        val=super().m1()+30\n",
    "        return val\n",
    "        \n",
    "class C(B):\n",
    "    \n",
    "     def m1(self):\n",
    "        val=self.m1()+30\n",
    "        return val\n",
    "    \n",
    "obj=C()\n",
    "print(obj.m1())# code crash beacuse too much recursion beacuse we invoke self child method and self khud onject hai bar bar c ka hi method invoke ho raha hai"
   ]
  },
  {
   "cell_type": "code",
   "execution_count": 22,
   "id": "c50c2de0",
   "metadata": {},
   "outputs": [
    {
     "name": "stdout",
     "output_type": "stream",
     "text": [
      "circle:- 113.03999999999999\n",
      "Rectangular:- 15\n"
     ]
    }
   ],
   "source": [
    "# method overloading\n",
    "\n",
    "class Geometry:\n",
    "    \n",
    "    def area(self,a,b=0):\n",
    "        if b==0:\n",
    "            print(\"circle:-\",3.14*a*a)\n",
    "        else:\n",
    "            print(\"Rectangular:-\",a*b)\n",
    "            \n",
    "shape=Geometry()\n",
    "shape.area(6)\n",
    "shape.area(3,5)"
   ]
  },
  {
   "cell_type": "code",
   "execution_count": null,
   "id": "50f70c04",
   "metadata": {},
   "outputs": [],
   "source": []
  }
 ],
 "metadata": {
  "kernelspec": {
   "display_name": "Python 3 (ipykernel)",
   "language": "python",
   "name": "python3"
  },
  "language_info": {
   "codemirror_mode": {
    "name": "ipython",
    "version": 3
   },
   "file_extension": ".py",
   "mimetype": "text/x-python",
   "name": "python",
   "nbconvert_exporter": "python",
   "pygments_lexer": "ipython3",
   "version": "3.11.5"
  }
 },
 "nbformat": 4,
 "nbformat_minor": 5
}
